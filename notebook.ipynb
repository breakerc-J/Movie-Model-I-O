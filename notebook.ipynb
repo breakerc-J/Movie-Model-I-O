{
 "cells": [
  {
   "cell_type": "code",
   "execution_count": 20,
   "metadata": {},
   "outputs": [
    {
     "name": "stdout",
     "output_type": "stream",
     "text": [
      "AI:\n",
      "        Here is what I know:\n",
      "        Director of the movie: Quentin Tarantino\n",
      "        Main cast of the movie: John Travolta, Uma Thurman, Samuel L. Jackson\n",
      "        Budget of the movie: $8-8.5 million\n",
      "        Box office revenue of the movie: $214 million\n",
      "        The genre of the movie : Crime, Drama\n",
      "        A brief synopsis : Pulp Fiction is a nonlinear narrative that follows the lives of two mob hitmen, a boxer, a gangster's wife, and a pair of diner bandits in interconnected stories of violence and redemption. The film explores themes of crime, violence, redemption, and the blurred lines between good and evil. With its iconic dialogue, memorable characters, and unique storytelling style, Pulp Fiction has become a cult classic in the world of cinema."
     ]
    },
    {
     "data": {
      "text/plain": [
       "AIMessageChunk(content=\"AI:\\n        Here is what I know:\\n        Director of the movie: Quentin Tarantino\\n        Main cast of the movie: John Travolta, Uma Thurman, Samuel L. Jackson\\n        Budget of the movie: $8-8.5 million\\n        Box office revenue of the movie: $214 million\\n        The genre of the movie : Crime, Drama\\n        A brief synopsis : Pulp Fiction is a nonlinear narrative that follows the lives of two mob hitmen, a boxer, a gangster's wife, and a pair of diner bandits in interconnected stories of violence and redemption. The film explores themes of crime, violence, redemption, and the blurred lines between good and evil. With its iconic dialogue, memorable characters, and unique storytelling style, Pulp Fiction has become a cult classic in the world of cinema.\")"
      ]
     },
     "execution_count": 20,
     "metadata": {},
     "output_type": "execute_result"
    }
   ],
   "source": [
    "from langchain.chat_models import ChatOpenAI\n",
    "from langchain.prompts import example_selector\n",
    "from langchain.prompts.few_shot import FewShotPromptTemplate\n",
    "from langchain.callbacks import StreamingStdOutCallbackHandler\n",
    "from langchain.prompts.prompt import PromptTemplate\n",
    "from langchain.prompts.example_selector.base import BaseExampleSelector\n",
    "\n",
    "chat = ChatOpenAI(\n",
    "    temperature=0.1,\n",
    "    streaming=True,\n",
    "    callbacks=[\n",
    "        StreamingStdOutCallbackHandler(),\n",
    "    ],\n",
    ")\n",
    "\n",
    "\n",
    "examples = [\n",
    "    {\n",
    "        \"question\": \"Can you tell me some information about the movie forrest gump?\",\n",
    "        \"answer\": \"\"\"\n",
    "        Here is what I know:\n",
    "        Director of the movie: Robert Zemeckis\n",
    "        Main cast of the movie: Tom Hanks, Robin Wright, Gary Sinise\n",
    "        Budget of the movie: $55 million\n",
    "        Box office revenue of the movie: $678.2 million\n",
    "        The genre of the movie : Drama, Romance\n",
    "        A brief synopsis : Forrest Gump is a simple man with a low I.Q. but good intentions. He is running through childhood with his best and only friend Jenny. His 'mama' teaches him the ways of life and leaves him to choose his destiny. Forrest joins the army for service in Vietnam, finding new friends called Dan and Bubba, he wins medals, creates a famous shrimp fishing fleet, inspires people to jog, starts a ping-pong craze, creates the smiley, writes bumper stickers and songs, donates to people and meets the president several times. However, this is all irrelevant to Forrest who can only think of his childhood sweetheart Jenny Curran, who has messed up her life. Although in the end all he wants to prove is that anyone can love anyone.\n",
    "        \"\"\",\n",
    "    },\n",
    "    {\n",
    "        \"question\": \"Can you tell me some information about the movie Inception?\",\n",
    "        \"answer\": \"\"\"\n",
    "        Here is what I know:\n",
    "        Director of the movie: Christopher Nolan\n",
    "        Main cast of the movie: Leonardo DiCaprio, Joseph Gordon-Levitt, Elliot Page\n",
    "        Budget of the movie: $160 million\n",
    "        Box office revenue of the movie: $839 million\n",
    "        The genre of the movie : Acton, Sci-Fi\n",
    "        A brief synopsis : Dom Cobb is a skilled thief, the absolute best in the dangerous art of extraction, stealing valuable secrets from deep within the subconscious during the dream state, when the mind is at its most vulnerable. Cobb's rare ability has made him a coveted player in this treacherous new world of corporate espionage, but it has also made him an international fugitive and cost him everything he has ever loved. Now Cobb is being offered a chance at redemption. One last job could give him his life back but only if he can accomplish the impossible, inception. Instead of the perfect heist, Cobb and his team of specialists have to pull off the reverse: their task is not to steal an idea, but to plant one. If they succeed, it could be the perfect crime. But no amount of careful planning or expertise can prepare the team for the dangerous enemy that seems to predict their every move. An enemy that only Cobb could have seen coming.\n",
    "        \"\"\",\n",
    "    },\n",
    "    {\n",
    "        \"question\": \"Can you tell me some information about the movie The Godfather?\",\n",
    "        \"answer\": \"\"\"\n",
    "        I know this:\n",
    "        Director of the movie: Francis Ford Coppola\n",
    "        Main cast of the movie: Marlon Brando, Al Pacino, James Caan\n",
    "        Budget of the movie: between $6 and 7.2 million\n",
    "        Box office revenue of the movie: between $250 and $291 million\n",
    "        The genre of the movie : Crime, Drama\n",
    "        A brief synopsis : The Godfather \"Don\" Vito Corleone is the head of the Corleone mafia family in New York. He is at the event of his daughter's wedding. Michael, Vito's youngest son and a decorated WW II Marine is also present at the wedding. Michael seems to be uninterested in being a part of the family business. Vito is a powerful man, and is kind to all those who give him respect but is ruthless against those who do not. But when a powerful and treacherous rival wants to sell drugs and needs the Don's influence for the same, Vito refuses to do it. What follows is a clash between Vito's fading old values and the new ways which may cause Michael to do the thing he was most reluctant in doing and wage a mob war against all the other mafia families which could tear the Corleone family apart.\n",
    "        \"\"\",\n",
    "    },\n",
    "]\n",
    "\n",
    "class RandomExampleSelector(BaseExampleSelector):\n",
    "    def __init__(self, examples):\n",
    "        self.examples = examples\n",
    "\n",
    "    def add_example(self, example):\n",
    "        self.examples.append(example)\n",
    "\n",
    "    def select_examples(self, input_variables):\n",
    "        from random import choice\n",
    "\n",
    "        return [choice(self.examples)]\n",
    "\n",
    "\n",
    "example_prompt = PromptTemplate.from_template(\"Human: {question}\\nAI:{answer}\")\n",
    "\n",
    "#example_selector = RandomExampleSelector(\n",
    "#    examples=examples,\n",
    "#)\n",
    "\n",
    "prompt = FewShotPromptTemplate(\n",
    "    example_prompt=example_prompt,\n",
    "    examples=examples,\n",
    "    suffix=\"Human: Can you tell me some information about the {movie}?\",\n",
    "    input_variables=[\"movie\"],\n",
    ")\n",
    "\n",
    "chain = prompt | chat\n",
    "chain.invoke({\"movie\": \"Pulp Fiction\"})\n"
   ]
  }
 ],
 "metadata": {
  "kernelspec": {
   "display_name": "env",
   "language": "python",
   "name": "python3"
  },
  "language_info": {
   "codemirror_mode": {
    "name": "ipython",
    "version": 3
   },
   "file_extension": ".py",
   "mimetype": "text/x-python",
   "name": "python",
   "nbconvert_exporter": "python",
   "pygments_lexer": "ipython3",
   "version": "3.11.6"
  }
 },
 "nbformat": 4,
 "nbformat_minor": 2
}
